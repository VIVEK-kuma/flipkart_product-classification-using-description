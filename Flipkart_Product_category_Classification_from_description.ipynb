{
  "nbformat": 4,
  "nbformat_minor": 0,
  "metadata": {
    "colab": {
      "name": "Flipkart Product category Classification from description",
      "provenance": [],
      "collapsed_sections": []
    },
    "kernelspec": {
      "name": "python3",
      "display_name": "Python 3"
    },
    "language_info": {
      "name": "python"
    }
  },
  "cells": [
    {
      "cell_type": "markdown",
      "metadata": {
        "id": "WWwt7NwJIHyp"
      },
      "source": [
        "**NLP**: Product category prediction using product description\n",
        "                                      "
      ]
    },
    {
      "cell_type": "code",
      "metadata": {
        "id": "PlmZoSyKJT9J",
        "colab": {
          "base_uri": "https://localhost:8080/"
        },
        "outputId": "87d4002f-9601-490d-dcf8-b73a02c1b7db"
      },
      "source": [
        "from google.colab import drive\n",
        "drive.mount('/content/drive')"
      ],
      "execution_count": 2,
      "outputs": [
        {
          "output_type": "stream",
          "text": [
            "Mounted at /content/drive\n"
          ],
          "name": "stdout"
        }
      ]
    },
    {
      "cell_type": "code",
      "metadata": {
        "id": "Y-YapdgUcPbo"
      },
      "source": [
        "#library for dataframe and its operations\n",
        "import numpy as np\n",
        "import pandas as pd"
      ],
      "execution_count": 1,
      "outputs": []
    },
    {
      "cell_type": "code",
      "metadata": {
        "colab": {
          "base_uri": "https://localhost:8080/",
          "height": 475
        },
        "id": "nHL9hc5_fnwK",
        "outputId": "232fc7d7-f413-4151-ce47-3dddbdba1655"
      },
      "source": [
        "#data reading just upload data to session storage and use it\n",
        "df=pd.read_csv(\"/content/drive/MyDrive/flipkart_NLP_classification/flipkart_com-ecommerce_sample - flipkart_com-ecommerce_sample.csv\")\n",
        "df.head()"
      ],
      "execution_count": 3,
      "outputs": [
        {
          "output_type": "execute_result",
          "data": {
            "text/html": [
              "<div>\n",
              "<style scoped>\n",
              "    .dataframe tbody tr th:only-of-type {\n",
              "        vertical-align: middle;\n",
              "    }\n",
              "\n",
              "    .dataframe tbody tr th {\n",
              "        vertical-align: top;\n",
              "    }\n",
              "\n",
              "    .dataframe thead th {\n",
              "        text-align: right;\n",
              "    }\n",
              "</style>\n",
              "<table border=\"1\" class=\"dataframe\">\n",
              "  <thead>\n",
              "    <tr style=\"text-align: right;\">\n",
              "      <th></th>\n",
              "      <th>uniq_id</th>\n",
              "      <th>crawl_timestamp</th>\n",
              "      <th>product_url</th>\n",
              "      <th>product_name</th>\n",
              "      <th>product_category_tree</th>\n",
              "      <th>pid</th>\n",
              "      <th>retail_price</th>\n",
              "      <th>discounted_price</th>\n",
              "      <th>image</th>\n",
              "      <th>is_FK_Advantage_product</th>\n",
              "      <th>description</th>\n",
              "      <th>product_rating</th>\n",
              "      <th>overall_rating</th>\n",
              "      <th>brand</th>\n",
              "      <th>product_specifications</th>\n",
              "    </tr>\n",
              "  </thead>\n",
              "  <tbody>\n",
              "    <tr>\n",
              "      <th>0</th>\n",
              "      <td>c2d766ca982eca8304150849735ffef9</td>\n",
              "      <td>2016-03-25 22:59:23 +0000</td>\n",
              "      <td>http://www.flipkart.com/alisha-solid-women-s-c...</td>\n",
              "      <td>Alisha Solid Women's Cycling Shorts</td>\n",
              "      <td>[\"Clothing &gt;&gt; Women's Clothing &gt;&gt; Lingerie, Sl...</td>\n",
              "      <td>SRTEH2FF9KEDEFGF</td>\n",
              "      <td>999.0</td>\n",
              "      <td>379.0</td>\n",
              "      <td>[\"http://img5a.flixcart.com/image/short/u/4/a/...</td>\n",
              "      <td>0</td>\n",
              "      <td>Key Features of Alisha Solid Women's Cycling S...</td>\n",
              "      <td>No rating available</td>\n",
              "      <td>No rating available</td>\n",
              "      <td>Alisha</td>\n",
              "      <td>{\"product_specification\"=&gt;[{\"key\"=&gt;\"Number of ...</td>\n",
              "    </tr>\n",
              "    <tr>\n",
              "      <th>1</th>\n",
              "      <td>7f7036a6d550aaa89d34c77bd39a5e48</td>\n",
              "      <td>2016-03-25 22:59:23 +0000</td>\n",
              "      <td>http://www.flipkart.com/fabhomedecor-fabric-do...</td>\n",
              "      <td>FabHomeDecor Fabric Double Sofa Bed</td>\n",
              "      <td>[\"Furniture &gt;&gt; Living Room Furniture &gt;&gt; Sofa B...</td>\n",
              "      <td>SBEEH3QGU7MFYJFY</td>\n",
              "      <td>32157.0</td>\n",
              "      <td>22646.0</td>\n",
              "      <td>[\"http://img6a.flixcart.com/image/sofa-bed/j/f...</td>\n",
              "      <td>0</td>\n",
              "      <td>FabHomeDecor Fabric Double Sofa Bed (Finish Co...</td>\n",
              "      <td>No rating available</td>\n",
              "      <td>No rating available</td>\n",
              "      <td>FabHomeDecor</td>\n",
              "      <td>{\"product_specification\"=&gt;[{\"key\"=&gt;\"Installati...</td>\n",
              "    </tr>\n",
              "    <tr>\n",
              "      <th>2</th>\n",
              "      <td>f449ec65dcbc041b6ae5e6a32717d01b</td>\n",
              "      <td>2016-03-25 22:59:23 +0000</td>\n",
              "      <td>http://www.flipkart.com/aw-bellies/p/itmeh4grg...</td>\n",
              "      <td>AW Bellies</td>\n",
              "      <td>[\"Footwear &gt;&gt; Women's Footwear &gt;&gt; Ballerinas &gt;...</td>\n",
              "      <td>SHOEH4GRSUBJGZXE</td>\n",
              "      <td>999.0</td>\n",
              "      <td>499.0</td>\n",
              "      <td>[\"http://img5a.flixcart.com/image/shoe/7/z/z/r...</td>\n",
              "      <td>0</td>\n",
              "      <td>Key Features of AW Bellies Sandals Wedges Heel...</td>\n",
              "      <td>No rating available</td>\n",
              "      <td>No rating available</td>\n",
              "      <td>AW</td>\n",
              "      <td>{\"product_specification\"=&gt;[{\"key\"=&gt;\"Ideal For\"...</td>\n",
              "    </tr>\n",
              "    <tr>\n",
              "      <th>3</th>\n",
              "      <td>0973b37acd0c664e3de26e97e5571454</td>\n",
              "      <td>2016-03-25 22:59:23 +0000</td>\n",
              "      <td>http://www.flipkart.com/alisha-solid-women-s-c...</td>\n",
              "      <td>Alisha Solid Women's Cycling Shorts</td>\n",
              "      <td>[\"Clothing &gt;&gt; Women's Clothing &gt;&gt; Lingerie, Sl...</td>\n",
              "      <td>SRTEH2F6HUZMQ6SJ</td>\n",
              "      <td>699.0</td>\n",
              "      <td>267.0</td>\n",
              "      <td>[\"http://img5a.flixcart.com/image/short/6/2/h/...</td>\n",
              "      <td>0</td>\n",
              "      <td>Key Features of Alisha Solid Women's Cycling S...</td>\n",
              "      <td>No rating available</td>\n",
              "      <td>No rating available</td>\n",
              "      <td>Alisha</td>\n",
              "      <td>{\"product_specification\"=&gt;[{\"key\"=&gt;\"Number of ...</td>\n",
              "    </tr>\n",
              "    <tr>\n",
              "      <th>4</th>\n",
              "      <td>bc940ea42ee6bef5ac7cea3fb5cfbee7</td>\n",
              "      <td>2016-03-25 22:59:23 +0000</td>\n",
              "      <td>http://www.flipkart.com/sicons-all-purpose-arn...</td>\n",
              "      <td>Sicons All Purpose Arnica Dog Shampoo</td>\n",
              "      <td>[\"Pet Supplies &gt;&gt; Grooming &gt;&gt; Skin &amp; Coat Care...</td>\n",
              "      <td>PSOEH3ZYDMSYARJ5</td>\n",
              "      <td>220.0</td>\n",
              "      <td>210.0</td>\n",
              "      <td>[\"http://img5a.flixcart.com/image/pet-shampoo/...</td>\n",
              "      <td>0</td>\n",
              "      <td>Specifications of Sicons All Purpose Arnica Do...</td>\n",
              "      <td>No rating available</td>\n",
              "      <td>No rating available</td>\n",
              "      <td>Sicons</td>\n",
              "      <td>{\"product_specification\"=&gt;[{\"key\"=&gt;\"Pet Type\",...</td>\n",
              "    </tr>\n",
              "  </tbody>\n",
              "</table>\n",
              "</div>"
            ],
            "text/plain": [
              "                            uniq_id  ...                             product_specifications\n",
              "0  c2d766ca982eca8304150849735ffef9  ...  {\"product_specification\"=>[{\"key\"=>\"Number of ...\n",
              "1  7f7036a6d550aaa89d34c77bd39a5e48  ...  {\"product_specification\"=>[{\"key\"=>\"Installati...\n",
              "2  f449ec65dcbc041b6ae5e6a32717d01b  ...  {\"product_specification\"=>[{\"key\"=>\"Ideal For\"...\n",
              "3  0973b37acd0c664e3de26e97e5571454  ...  {\"product_specification\"=>[{\"key\"=>\"Number of ...\n",
              "4  bc940ea42ee6bef5ac7cea3fb5cfbee7  ...  {\"product_specification\"=>[{\"key\"=>\"Pet Type\",...\n",
              "\n",
              "[5 rows x 15 columns]"
            ]
          },
          "metadata": {
            "tags": []
          },
          "execution_count": 3
        }
      ]
    },
    {
      "cell_type": "markdown",
      "metadata": {
        "id": "YUk7jW4XckYb"
      },
      "source": [
        ""
      ]
    },
    {
      "cell_type": "code",
      "metadata": {
        "id": "zPoBQJx4fZ9q"
      },
      "source": [
        ""
      ],
      "execution_count": null,
      "outputs": []
    },
    {
      "cell_type": "code",
      "metadata": {
        "colab": {
          "base_uri": "https://localhost:8080/"
        },
        "id": "gkm-VMoccq2h",
        "outputId": "e8861656-2e38-4efb-b4bf-7548f99f4ddc"
      },
      "source": [
        "print(df.columns)"
      ],
      "execution_count": 4,
      "outputs": [
        {
          "output_type": "stream",
          "text": [
            "Index(['uniq_id', 'crawl_timestamp', 'product_url', 'product_name',\n",
            "       'product_category_tree', 'pid', 'retail_price', 'discounted_price',\n",
            "       'image', 'is_FK_Advantage_product', 'description', 'product_rating',\n",
            "       'overall_rating', 'brand', 'product_specifications'],\n",
            "      dtype='object')\n"
          ],
          "name": "stdout"
        }
      ]
    },
    {
      "cell_type": "code",
      "metadata": {
        "id": "ITzWfltkg9bn"
      },
      "source": [
        "#drop the unnecesarry columns\n",
        "df.drop(['uniq_id', 'crawl_timestamp', 'product_url','pid', 'retail_price', 'discounted_price','image', 'is_FK_Advantage_product','product_rating',\n",
        "       'overall_rating', ], axis=1,inplace=True)"
      ],
      "execution_count": 5,
      "outputs": []
    },
    {
      "cell_type": "code",
      "metadata": {
        "colab": {
          "base_uri": "https://localhost:8080/"
        },
        "id": "6Y3m_mihc1DM",
        "outputId": "ff1ca2f5-8f97-43e4-aca7-ffb938829e7c"
      },
      "source": [
        "df.columns"
      ],
      "execution_count": 6,
      "outputs": [
        {
          "output_type": "execute_result",
          "data": {
            "text/plain": [
              "Index(['product_name', 'product_category_tree', 'description', 'brand',\n",
              "       'product_specifications'],\n",
              "      dtype='object')"
            ]
          },
          "metadata": {
            "tags": []
          },
          "execution_count": 6
        }
      ]
    },
    {
      "cell_type": "code",
      "metadata": {
        "colab": {
          "base_uri": "https://localhost:8080/",
          "height": 110
        },
        "id": "C8C5v32rhEO5",
        "outputId": "9e1cfe0b-1018-4838-feb9-2bc0a45ea0b1"
      },
      "source": [
        "#check for NULL values\n",
        "df[df['description'].isnull()==True]"
      ],
      "execution_count": 7,
      "outputs": [
        {
          "output_type": "execute_result",
          "data": {
            "text/html": [
              "<div>\n",
              "<style scoped>\n",
              "    .dataframe tbody tr th:only-of-type {\n",
              "        vertical-align: middle;\n",
              "    }\n",
              "\n",
              "    .dataframe tbody tr th {\n",
              "        vertical-align: top;\n",
              "    }\n",
              "\n",
              "    .dataframe thead th {\n",
              "        text-align: right;\n",
              "    }\n",
              "</style>\n",
              "<table border=\"1\" class=\"dataframe\">\n",
              "  <thead>\n",
              "    <tr style=\"text-align: right;\">\n",
              "      <th></th>\n",
              "      <th>product_name</th>\n",
              "      <th>product_category_tree</th>\n",
              "      <th>description</th>\n",
              "      <th>brand</th>\n",
              "      <th>product_specifications</th>\n",
              "    </tr>\n",
              "  </thead>\n",
              "  <tbody>\n",
              "    <tr>\n",
              "      <th>553</th>\n",
              "      <td>Ozel Studio Casual Sleeveless Printed Women's Top</td>\n",
              "      <td>[\"Clothing &gt;&gt; Women's Clothing &gt;&gt; Western Wear...</td>\n",
              "      <td>NaN</td>\n",
              "      <td>NaN</td>\n",
              "      <td>{\"product_specification\"=&gt;[{\"key\"=&gt;\"Ideal For\"...</td>\n",
              "    </tr>\n",
              "    <tr>\n",
              "      <th>17299</th>\n",
              "      <td>Amore Abstract Cushions Cover</td>\n",
              "      <td>[\"Home Furnishing &gt;&gt; Cushions, Pillows &amp; Cover...</td>\n",
              "      <td>NaN</td>\n",
              "      <td>Amore</td>\n",
              "      <td>{\"product_specification\"=&gt;[{\"key\"=&gt;\"Brand\", \"v...</td>\n",
              "    </tr>\n",
              "  </tbody>\n",
              "</table>\n",
              "</div>"
            ],
            "text/plain": [
              "                                            product_name  ...                             product_specifications\n",
              "553    Ozel Studio Casual Sleeveless Printed Women's Top  ...  {\"product_specification\"=>[{\"key\"=>\"Ideal For\"...\n",
              "17299                      Amore Abstract Cushions Cover  ...  {\"product_specification\"=>[{\"key\"=>\"Brand\", \"v...\n",
              "\n",
              "[2 rows x 5 columns]"
            ]
          },
          "metadata": {
            "tags": []
          },
          "execution_count": 7
        }
      ]
    },
    {
      "cell_type": "code",
      "metadata": {
        "id": "_3CsrprfdK1W"
      },
      "source": [
        ""
      ],
      "execution_count": null,
      "outputs": []
    },
    {
      "cell_type": "code",
      "metadata": {
        "id": "EhJc7Wg-hR-s"
      },
      "source": [
        "#we can drop these two rows so that null values will be avoided and also it will not create much diffrence in our model\n",
        "df.drop(labels=[553,17299],axis=0,inplace =True)"
      ],
      "execution_count": 8,
      "outputs": []
    },
    {
      "cell_type": "code",
      "metadata": {
        "colab": {
          "base_uri": "https://localhost:8080/"
        },
        "id": "ka5Xew98dlRM",
        "outputId": "2ba63afc-2fc9-45d2-e336-9b6413621fde"
      },
      "source": [
        "#text cleaning libraries\n",
        "import re\n",
        "import nltk\n",
        "nltk.download('stopwords')\n",
        "from nltk.corpus import stopwords\n",
        "from nltk.stem.porter import PorterStemmer\n",
        "from sklearn.feature_extraction.text import CountVectorizer"
      ],
      "execution_count": 9,
      "outputs": [
        {
          "output_type": "stream",
          "text": [
            "[nltk_data] Downloading package stopwords to /root/nltk_data...\n",
            "[nltk_data]   Unzipping corpora/stopwords.zip.\n"
          ],
          "name": "stdout"
        }
      ]
    },
    {
      "cell_type": "markdown",
      "metadata": {
        "id": "m08Pk4FzOnUD"
      },
      "source": [
        "**Text preprocessing**:In this block we are preprocessing text\n",
        "1. First we imported porterstemmer module which is used for stemming text data.\n",
        "2. I have done preprocessing mainly on 2 columns 'product_category_tree' and 'description'.\n",
        "3. I have ignored the deleted rows(553 and 17299)\n",
        "4. first in 'product_category_tree' I removed all the elements except alphabets and spaces then i convert it all in lowercase elements and then split it and join using space and appended in the list corpus.\n",
        "5. Secondly in 'description' column I removed all the elements except alphabets and spaces then i convert it all in lowercase elements after that I have deleted all the stopwords present in the description and done the stemming using porterstemmer module then split it and join it using space and appended in the list crpus\n",
        "6. This is the basic operation for any NLP project\n",
        "7. I have used set during stemming to improve runtime."
      ]
    },
    {
      "cell_type": "code",
      "metadata": {
        "id": "Eo7obrSFfVYf"
      },
      "source": [
        ""
      ],
      "execution_count": null,
      "outputs": []
    },
    {
      "cell_type": "code",
      "metadata": {
        "id": "4P7lrisOia2j"
      },
      "source": [
        "crpus=[]\n",
        "ps=PorterStemmer()\n",
        "corpus=[]\n",
        "for i in range(0,20000):\n",
        " if i!=553 and i!=17299:#because we have removed these two rows\n",
        "  review=re.sub('[^a-zA-Z]',' ',df['product_category_tree'][i])\n",
        "  review=review.lower()\n",
        "  review=review.split()\n",
        "#we use set here with stopwords to reduce execution time\n",
        "  review=' '.join(review)\n",
        "  corpus.append(review)\n",
        "#description preprocessing\n",
        "  review=re.sub('[^a-zA-Z]',' ',df['description'][i])\n",
        "  \n",
        "  review=review.lower()\n",
        "  review=review.split()\n",
        "  review=[ps.stem(word )for word in review if not word in set(stopwords.words('english'))]\n",
        "  review=' '.join(review)\n",
        "  crpus.append(review)"
      ],
      "execution_count": 11,
      "outputs": []
    },
    {
      "cell_type": "code",
      "metadata": {
        "colab": {
          "base_uri": "https://localhost:8080/",
          "height": 203
        },
        "id": "ipsF6QP5ifmL",
        "outputId": "72a290cc-8315-4550-86a4-c58a36312029"
      },
      "source": [
        "#declaring and showing dataframe containing only these two coumns \n",
        "df=pd.DataFrame({\"product_category\":corpus,\"description\":crpus})\n",
        "df.head()"
      ],
      "execution_count": 13,
      "outputs": [
        {
          "output_type": "execute_result",
          "data": {
            "text/html": [
              "<div>\n",
              "<style scoped>\n",
              "    .dataframe tbody tr th:only-of-type {\n",
              "        vertical-align: middle;\n",
              "    }\n",
              "\n",
              "    .dataframe tbody tr th {\n",
              "        vertical-align: top;\n",
              "    }\n",
              "\n",
              "    .dataframe thead th {\n",
              "        text-align: right;\n",
              "    }\n",
              "</style>\n",
              "<table border=\"1\" class=\"dataframe\">\n",
              "  <thead>\n",
              "    <tr style=\"text-align: right;\">\n",
              "      <th></th>\n",
              "      <th>product_category</th>\n",
              "      <th>description</th>\n",
              "    </tr>\n",
              "  </thead>\n",
              "  <tbody>\n",
              "    <tr>\n",
              "      <th>0</th>\n",
              "      <td>clothing women s clothing lingerie sleep swimw...</td>\n",
              "      <td>key featur alisha solid women cycl short cotto...</td>\n",
              "    </tr>\n",
              "    <tr>\n",
              "      <th>1</th>\n",
              "      <td>furniture living room furniture sofa beds futo...</td>\n",
              "      <td>fabhomedecor fabric doubl sofa bed finish colo...</td>\n",
              "    </tr>\n",
              "    <tr>\n",
              "      <th>2</th>\n",
              "      <td>footwear women s footwear ballerinas aw bellies</td>\n",
              "      <td>key featur aw belli sandal wedg heel casual aw...</td>\n",
              "    </tr>\n",
              "    <tr>\n",
              "      <th>3</th>\n",
              "      <td>clothing women s clothing lingerie sleep swimw...</td>\n",
              "      <td>key featur alisha solid women cycl short cotto...</td>\n",
              "    </tr>\n",
              "    <tr>\n",
              "      <th>4</th>\n",
              "      <td>pet supplies grooming skin coat care shampoo s...</td>\n",
              "      <td>specif sicon purpos arnica dog shampoo ml gene...</td>\n",
              "    </tr>\n",
              "  </tbody>\n",
              "</table>\n",
              "</div>"
            ],
            "text/plain": [
              "                                    product_category                                        description\n",
              "0  clothing women s clothing lingerie sleep swimw...  key featur alisha solid women cycl short cotto...\n",
              "1  furniture living room furniture sofa beds futo...  fabhomedecor fabric doubl sofa bed finish colo...\n",
              "2    footwear women s footwear ballerinas aw bellies  key featur aw belli sandal wedg heel casual aw...\n",
              "3  clothing women s clothing lingerie sleep swimw...  key featur alisha solid women cycl short cotto...\n",
              "4  pet supplies grooming skin coat care shampoo s...  specif sicon purpos arnica dog shampoo ml gene..."
            ]
          },
          "metadata": {
            "tags": []
          },
          "execution_count": 13
        }
      ]
    },
    {
      "cell_type": "code",
      "metadata": {
        "id": "dXGgu7A-ijWc"
      },
      "source": [
        "#first word is depicting the product category so we can drop other words in the product category or we can go for sub-category as required\n",
        "df['product_category'] = df['product_category'].apply(lambda x : x.split()[0][0:].strip())"
      ],
      "execution_count": 19,
      "outputs": []
    },
    {
      "cell_type": "code",
      "metadata": {
        "colab": {
          "base_uri": "https://localhost:8080/",
          "height": 203
        },
        "id": "v7EnFgdThH5c",
        "outputId": "e55baa6d-4419-481a-ee4b-e1ae2952e292"
      },
      "source": [
        "df.head()"
      ],
      "execution_count": 20,
      "outputs": [
        {
          "output_type": "execute_result",
          "data": {
            "text/html": [
              "<div>\n",
              "<style scoped>\n",
              "    .dataframe tbody tr th:only-of-type {\n",
              "        vertical-align: middle;\n",
              "    }\n",
              "\n",
              "    .dataframe tbody tr th {\n",
              "        vertical-align: top;\n",
              "    }\n",
              "\n",
              "    .dataframe thead th {\n",
              "        text-align: right;\n",
              "    }\n",
              "</style>\n",
              "<table border=\"1\" class=\"dataframe\">\n",
              "  <thead>\n",
              "    <tr style=\"text-align: right;\">\n",
              "      <th></th>\n",
              "      <th>product_category</th>\n",
              "      <th>description</th>\n",
              "    </tr>\n",
              "  </thead>\n",
              "  <tbody>\n",
              "    <tr>\n",
              "      <th>0</th>\n",
              "      <td>clothing</td>\n",
              "      <td>key featur alisha solid women cycl short cotto...</td>\n",
              "    </tr>\n",
              "    <tr>\n",
              "      <th>1</th>\n",
              "      <td>furniture</td>\n",
              "      <td>fabhomedecor fabric doubl sofa bed finish colo...</td>\n",
              "    </tr>\n",
              "    <tr>\n",
              "      <th>2</th>\n",
              "      <td>footwear</td>\n",
              "      <td>key featur aw belli sandal wedg heel casual aw...</td>\n",
              "    </tr>\n",
              "    <tr>\n",
              "      <th>3</th>\n",
              "      <td>clothing</td>\n",
              "      <td>key featur alisha solid women cycl short cotto...</td>\n",
              "    </tr>\n",
              "    <tr>\n",
              "      <th>4</th>\n",
              "      <td>pet</td>\n",
              "      <td>specif sicon purpos arnica dog shampoo ml gene...</td>\n",
              "    </tr>\n",
              "  </tbody>\n",
              "</table>\n",
              "</div>"
            ],
            "text/plain": [
              "  product_category                                        description\n",
              "0         clothing  key featur alisha solid women cycl short cotto...\n",
              "1        furniture  fabhomedecor fabric doubl sofa bed finish colo...\n",
              "2         footwear  key featur aw belli sandal wedg heel casual aw...\n",
              "3         clothing  key featur alisha solid women cycl short cotto...\n",
              "4              pet  specif sicon purpos arnica dog shampoo ml gene..."
            ]
          },
          "metadata": {
            "tags": []
          },
          "execution_count": 20
        }
      ]
    },
    {
      "cell_type": "markdown",
      "metadata": {
        "id": "ZPtahZo-RrNh"
      },
      "source": [
        "**Data Visualization**"
      ]
    },
    {
      "cell_type": "code",
      "metadata": {
        "id": "B8-x6se_hzLR"
      },
      "source": [
        "#library for data visualization\n",
        "import matplotlib.pyplot as plt\n",
        "import seaborn as sns"
      ],
      "execution_count": 22,
      "outputs": []
    },
    {
      "cell_type": "code",
      "metadata": {
        "colab": {
          "base_uri": "https://localhost:8080/",
          "height": 386
        },
        "id": "wRfHgxWXDYVd",
        "outputId": "28b6e5fb-8db3-4bf0-ccd7-b4dce6987bf7"
      },
      "source": [
        "#this is distplot of df.groupby(['description']).size(), i used it as it is a combination of rugplot and kdeplot\n",
        "plt.figure(figsize=(30,70))\n",
        "sns.displot( df.groupby(['description']).size(),kde=False,color='r')\n",
        "plt.show()\n"
      ],
      "execution_count": 23,
      "outputs": [
        {
          "output_type": "display_data",
          "data": {
            "text/plain": [
              "<Figure size 2160x5040 with 0 Axes>"
            ]
          },
          "metadata": {
            "tags": []
          }
        },
        {
          "output_type": "display_data",
          "data": {
            "image/png": "[encoded data removed]",
            "text/plain": [
              "<Figure size 360x360 with 1 Axes>"
            ]
          },
          "metadata": {
            "tags": [],
            "needs_background": "light"
          }
        }
      ]
    },
    {
      "cell_type": "code",
      "metadata": {
        "colab": {
          "base_uri": "https://localhost:8080/",
          "height": 386
        },
        "id": "wmgtTqmbGshG",
        "outputId": "57f50171-0883-492c-b141-bf231aa75a60"
      },
      "source": [
        "#this is distplot of df.groupby([''product_category'']).size(), i used it as it is a combination of rugplot and kdeplot\n",
        "plt.figure(figsize=(30,70))\n",
        "sns.displot( df.groupby(['product_category']).size(),kde=False)\n",
        "plt.show()\n"
      ],
      "execution_count": 24,
      "outputs": [
        {
          "output_type": "display_data",
          "data": {
            "text/plain": [
              "<Figure size 2160x5040 with 0 Axes>"
            ]
          },
          "metadata": {
            "tags": []
          }
        },
        {
          "output_type": "display_data",
          "data": {
            "image/png": "[encoded data removed]",
            "text/plain": [
              "<Figure size 360x360 with 1 Axes>"
            ]
          },
          "metadata": {
            "tags": [],
            "needs_background": "light"
          }
        }
      ]
    },
    {
      "cell_type": "code",
      "metadata": {
        "id": "es4IljSUibPE"
      },
      "source": [
        "#data preprocessing libraries  \n",
        "from sklearn.preprocessing import LabelEncoder,StandardScaler"
      ],
      "execution_count": 26,
      "outputs": []
    },
    {
      "cell_type": "code",
      "metadata": {
        "id": "GKaYFBcTiyYa"
      },
      "source": [
        "X=df['description']\n",
        "y=df['product_category']\n",
        "cv= CountVectorizer()\n",
        "X=cv.fit_transform(X)\n",
        "le=LabelEncoder()\n",
        "le=le.fit(y)\n",
        "y=le.transform(y)"
      ],
      "execution_count": 27,
      "outputs": []
    },
    {
      "cell_type": "code",
      "metadata": {
        "id": "4n3xWL-xio9y"
      },
      "source": [
        "#library for importing models\n",
        "from sklearn.naive_bayes import MultinomialNB\n",
        "from sklearn.linear_model import LogisticRegression\n",
        "from sklearn.model_selection import train_test_split"
      ],
      "execution_count": 29,
      "outputs": []
    },
    {
      "cell_type": "code",
      "metadata": {
        "id": "V_A65XW9jO8c"
      },
      "source": [
        "#libraries to determine model validity\n",
        "from sklearn.metrics import classification_report,confusion_matrix,accuracy_score"
      ],
      "execution_count": 32,
      "outputs": []
    },
    {
      "cell_type": "code",
      "metadata": {
        "id": "syTHHXDaiVli"
      },
      "source": [
        "X_train,X_test,y_train,y_test=train_test_split(X,y,test_size=0.25,random_state=0)"
      ],
      "execution_count": 33,
      "outputs": []
    },
    {
      "cell_type": "markdown",
      "metadata": {
        "id": "l_jGCpKWi7WB"
      },
      "source": [
        "**Multinomial Naive bayes Classifier**"
      ]
    },
    {
      "cell_type": "code",
      "metadata": {
        "id": "VYH2KyO4jDXo"
      },
      "source": [
        "mnb=MultinomialNB()\n",
        "#model fitting\n",
        "mnb.fit(X_train,y_train)\n",
        "#prediction\n",
        "pred_y=mnb.predict(X_test)"
      ],
      "execution_count": 36,
      "outputs": []
    },
    {
      "cell_type": "code",
      "metadata": {
        "colab": {
          "base_uri": "https://localhost:8080/"
        },
        "id": "QUEyXpYajfp7",
        "outputId": "522e72f4-8e4a-49e9-be16-375aa7284ed3"
      },
      "source": [
        "#check accuracy and underfitting using classification report and accuracy score\n",
        "r=accuracy_score(y_test,pre)\n",
        "print(r)\n",
        "print(classification_report(y_test,pred_y))"
      ],
      "execution_count": 37,
      "outputs": [
        {
          "output_type": "stream",
          "text": [
            "0.9144\n",
            "              precision    recall  f1-score   support\n",
            "\n",
            "           3       0.00      0.00      0.00         1\n",
            "           4       0.00      0.00      0.00         1\n",
            "           5       0.00      0.00      0.00         2\n",
            "           9       0.00      0.00      0.00         1\n",
            "          12       0.00      0.00      0.00         1\n",
            "          14       0.00      0.00      0.00         1\n",
            "          16       0.92      0.99      0.95       239\n",
            "          18       0.81      0.61      0.70       116\n",
            "          19       0.84      0.62      0.72        87\n",
            "          20       0.00      0.00      0.00         1\n",
            "          21       0.00      0.00      0.00         1\n",
            "          22       0.86      0.96      0.91       184\n",
            "          26       0.00      0.00      0.00         1\n",
            "          29       0.00      0.00      0.00         1\n",
            "          30       1.00      0.18      0.31        22\n",
            "          35       0.00      0.00      0.00         1\n",
            "          37       0.96      0.99      0.97      1538\n",
            "          38       0.00      0.00      0.00         6\n",
            "          40       0.87      0.81      0.84       146\n",
            "          41       0.00      0.00      0.00         1\n",
            "          44       0.00      0.00      0.00         2\n",
            "          47       0.00      0.00      0.00         1\n",
            "          48       0.00      0.00      0.00         1\n",
            "          49       0.00      0.00      0.00         3\n",
            "          50       0.00      0.00      0.00         1\n",
            "          51       0.00      0.00      0.00         2\n",
            "          52       1.00      0.50      0.67         2\n",
            "          55       1.00      1.00      1.00         3\n",
            "          56       0.00      0.00      0.00         1\n",
            "          58       0.00      0.00      0.00         2\n",
            "          60       0.00      0.00      0.00         1\n",
            "          64       0.93      0.97      0.95       279\n",
            "          65       0.00      0.00      0.00         2\n",
            "          67       0.93      0.98      0.95        52\n",
            "          69       1.00      0.75      0.86         8\n",
            "          72       0.00      0.00      0.00         1\n",
            "          74       1.00      0.67      0.80         6\n",
            "          76       0.87      0.94      0.90       444\n",
            "          77       1.00      1.00      1.00         1\n",
            "          78       0.00      0.00      0.00         1\n",
            "          80       0.00      0.00      0.00         1\n",
            "          81       0.00      0.00      0.00         1\n",
            "          84       0.88      1.00      0.93       872\n",
            "          93       0.97      0.83      0.90       161\n",
            "          94       0.00      0.00      0.00         1\n",
            "          99       1.00      1.00      1.00         1\n",
            "         101       0.00      0.00      0.00         1\n",
            "         102       0.00      0.00      0.00         1\n",
            "         103       0.00      0.00      0.00         1\n",
            "         104       0.00      0.00      0.00         1\n",
            "         105       0.00      0.00      0.00         1\n",
            "         108       0.00      0.00      0.00         1\n",
            "         110       0.00      0.00      0.00         2\n",
            "         112       0.00      0.00      0.00         1\n",
            "         113       0.97      0.92      0.95       280\n",
            "         114       0.00      0.00      0.00         2\n",
            "         118       0.00      0.00      0.00         1\n",
            "         123       0.00      0.00      0.00         4\n",
            "         126       0.91      0.54      0.68        72\n",
            "         127       1.00      0.62      0.77         8\n",
            "         128       0.00      0.00      0.00         1\n",
            "         142       0.00      0.00      0.00         1\n",
            "         143       0.00      0.00      0.00         1\n",
            "         145       0.00      0.00      0.00         1\n",
            "         147       0.00      0.00      0.00         1\n",
            "         151       0.00      0.00      0.00         1\n",
            "         152       0.00      0.00      0.00         1\n",
            "         153       0.00      0.00      0.00         1\n",
            "         154       0.00      0.00      0.00         1\n",
            "         156       0.00      0.00      0.00         2\n",
            "         160       0.00      0.00      0.00         1\n",
            "         161       0.91      0.50      0.65        40\n",
            "         166       0.00      0.00      0.00         1\n",
            "         168       0.78      1.00      0.88        14\n",
            "         170       0.00      0.00      0.00         1\n",
            "         172       0.00      0.00      0.00         1\n",
            "         173       0.00      0.00      0.00         1\n",
            "         175       0.00      0.00      0.00         1\n",
            "         176       0.00      0.00      0.00         1\n",
            "         177       0.92      0.91      0.91       119\n",
            "         178       0.73      0.74      0.74        89\n",
            "         179       0.00      0.00      0.00         1\n",
            "         181       0.00      0.00      0.00         1\n",
            "         183       0.00      0.00      0.00         1\n",
            "         185       0.00      0.00      0.00         1\n",
            "         187       0.00      0.00      0.00         3\n",
            "         188       0.00      0.00      0.00         1\n",
            "         189       0.00      0.00      0.00         1\n",
            "         190       0.95      1.00      0.98       127\n",
            "         191       0.00      0.00      0.00         1\n",
            "         192       0.00      0.00      0.00         1\n",
            "         193       0.00      0.00      0.00         1\n",
            "         194       0.00      0.00      0.00         1\n",
            "         195       0.00      0.00      0.00         1\n",
            "         197       0.00      0.00      0.00         1\n",
            "         198       0.00      0.00      0.00         1\n",
            "\n",
            "    accuracy                           0.91      5000\n",
            "   macro avg       0.25      0.22      0.23      5000\n",
            "weighted avg       0.90      0.91      0.90      5000\n",
            "\n"
          ],
          "name": "stdout"
        },
        {
          "output_type": "stream",
          "text": [
            "/usr/local/lib/python3.7/dist-packages/sklearn/metrics/_classification.py:1272: UndefinedMetricWarning: Precision and F-score are ill-defined and being set to 0.0 in labels with no predicted samples. Use `zero_division` parameter to control this behavior.\n",
            "  _warn_prf(average, modifier, msg_start, len(result))\n"
          ],
          "name": "stderr"
        }
      ]
    },
    {
      "cell_type": "code",
      "metadata": {
        "colab": {
          "base_uri": "https://localhost:8080/"
        },
        "id": "B1pr80bBv2bL",
        "outputId": "4cc2bd21-e340-4018-e45e-8eaf16ac910a"
      },
      "source": [
        "print(\"accuracy on test set: \", accuracy_score(y_test,pred_y))\n",
        "print(\"accuracy on training set: \", accuracy_score(y_train,mnb.predict(X_train)))\n",
        "#here accuracy in both the set is comparable so no overfitting condition"
      ],
      "execution_count": 40,
      "outputs": [
        {
          "output_type": "stream",
          "text": [
            "accuracy on test set:  0.9144\n",
            "accuracy on training set:  0.934191225496733\n"
          ],
          "name": "stdout"
        }
      ]
    },
    {
      "cell_type": "markdown",
      "metadata": {
        "id": "BqbdwRF9yPFs"
      },
      "source": [
        "**Logistic Regression**"
      ]
    },
    {
      "cell_type": "code",
      "metadata": {
        "colab": {
          "base_uri": "https://localhost:8080/"
        },
        "id": "oJykoYaVjm4y",
        "outputId": "3857ef26-fd78-40fa-ec73-e4d3103e886b"
      },
      "source": [
        "lr=LogisticRegression()\n",
        "#Model fitting\n",
        "lr.fit(X_train,y_train)\n",
        "#model prediction\n",
        "pred_y=lr.predict(X_test)\n",
        "#Model performance calcutation and check whether underfitting is there or not.\n",
        "r=accuracy_score(y_test,pred_y)\n",
        "cm=confusion_matrix(y_test,pred_y)\n",
        "print(r)\n",
        "\n",
        "print(classification_report(y_test,pred_y))"
      ],
      "execution_count": 41,
      "outputs": [
        {
          "output_type": "stream",
          "text": [
            "0.9568\n",
            "              precision    recall  f1-score   support\n",
            "\n",
            "           3       0.00      0.00      0.00         1\n",
            "           4       1.00      1.00      1.00         1\n",
            "           5       1.00      0.50      0.67         2\n",
            "           9       0.00      0.00      0.00         1\n",
            "          12       0.00      0.00      0.00         1\n",
            "          14       0.00      0.00      0.00         1\n",
            "          16       0.98      0.98      0.98       239\n",
            "          18       0.91      0.84      0.88       116\n",
            "          19       0.94      0.98      0.96        87\n",
            "          20       0.00      0.00      0.00         1\n",
            "          21       0.00      0.00      0.00         1\n",
            "          22       0.95      0.95      0.95       184\n",
            "          26       0.00      0.00      0.00         1\n",
            "          29       0.00      0.00      0.00         1\n",
            "          30       0.91      0.95      0.93        22\n",
            "          35       0.00      0.00      0.00         1\n",
            "          37       0.97      0.99      0.98      1538\n",
            "          38       0.40      0.33      0.36         6\n",
            "          40       0.94      0.97      0.95       146\n",
            "          41       0.00      0.00      0.00         1\n",
            "          44       1.00      1.00      1.00         2\n",
            "          47       0.00      0.00      0.00         1\n",
            "          48       0.00      0.00      0.00         1\n",
            "          49       1.00      1.00      1.00         3\n",
            "          50       0.00      0.00      0.00         1\n",
            "          51       0.00      0.00      0.00         2\n",
            "          52       1.00      0.50      0.67         2\n",
            "          55       1.00      1.00      1.00         3\n",
            "          56       0.00      0.00      0.00         1\n",
            "          58       1.00      1.00      1.00         2\n",
            "          60       0.50      1.00      0.67         1\n",
            "          61       0.00      0.00      0.00         0\n",
            "          64       0.97      0.99      0.98       279\n",
            "          65       0.00      0.00      0.00         2\n",
            "          67       0.98      0.96      0.97        52\n",
            "          69       1.00      0.88      0.93         8\n",
            "          72       0.00      0.00      0.00         1\n",
            "          74       0.86      1.00      0.92         6\n",
            "          76       0.94      0.95      0.94       444\n",
            "          77       0.00      0.00      0.00         1\n",
            "          78       0.00      0.00      0.00         1\n",
            "          80       1.00      1.00      1.00         1\n",
            "          81       0.00      0.00      0.00         1\n",
            "          84       1.00      0.99      0.99       872\n",
            "          88       0.00      0.00      0.00         0\n",
            "          93       0.92      0.95      0.93       161\n",
            "          94       0.00      0.00      0.00         1\n",
            "          97       0.00      0.00      0.00         0\n",
            "          99       1.00      1.00      1.00         1\n",
            "         101       0.00      0.00      0.00         1\n",
            "         102       1.00      1.00      1.00         1\n",
            "         103       0.00      0.00      0.00         1\n",
            "         104       0.00      0.00      0.00         1\n",
            "         105       1.00      1.00      1.00         1\n",
            "         108       0.00      0.00      0.00         1\n",
            "         110       0.00      0.00      0.00         2\n",
            "         112       0.00      0.00      0.00         1\n",
            "         113       0.96      0.97      0.96       280\n",
            "         114       0.00      0.00      0.00         2\n",
            "         118       0.00      0.00      0.00         1\n",
            "         123       0.60      0.75      0.67         4\n",
            "         124       0.00      0.00      0.00         0\n",
            "         126       0.79      0.75      0.77        72\n",
            "         127       1.00      0.88      0.93         8\n",
            "         128       0.00      0.00      0.00         1\n",
            "         142       0.50      1.00      0.67         1\n",
            "         143       0.00      0.00      0.00         1\n",
            "         145       0.00      0.00      0.00         1\n",
            "         147       0.00      0.00      0.00         1\n",
            "         148       0.00      0.00      0.00         0\n",
            "         151       0.00      0.00      0.00         1\n",
            "         152       0.25      1.00      0.40         1\n",
            "         153       0.50      1.00      0.67         1\n",
            "         154       0.00      0.00      0.00         1\n",
            "         156       0.00      0.00      0.00         2\n",
            "         160       1.00      1.00      1.00         1\n",
            "         161       0.95      0.88      0.91        40\n",
            "         166       0.00      0.00      0.00         1\n",
            "         168       0.91      0.71      0.80        14\n",
            "         170       0.00      0.00      0.00         1\n",
            "         172       0.00      0.00      0.00         1\n",
            "         173       1.00      1.00      1.00         1\n",
            "         175       0.00      0.00      0.00         1\n",
            "         176       1.00      1.00      1.00         1\n",
            "         177       0.98      0.94      0.96       119\n",
            "         178       0.82      0.84      0.83        89\n",
            "         179       1.00      1.00      1.00         1\n",
            "         181       0.00      0.00      0.00         1\n",
            "         183       1.00      1.00      1.00         1\n",
            "         185       0.00      0.00      0.00         1\n",
            "         187       1.00      1.00      1.00         3\n",
            "         188       0.00      0.00      0.00         1\n",
            "         189       0.00      0.00      0.00         1\n",
            "         190       0.99      1.00      1.00       127\n",
            "         191       0.00      0.00      0.00         1\n",
            "         192       0.00      0.00      0.00         1\n",
            "         193       0.00      0.00      0.00         1\n",
            "         194       0.00      0.00      0.00         1\n",
            "         195       0.00      0.00      0.00         1\n",
            "         196       0.00      0.00      0.00         0\n",
            "         197       0.00      0.00      0.00         1\n",
            "         198       0.00      0.00      0.00         1\n",
            "\n",
            "    accuracy                           0.96      5000\n",
            "   macro avg       0.40      0.41      0.39      5000\n",
            "weighted avg       0.95      0.96      0.95      5000\n",
            "\n"
          ],
          "name": "stdout"
        },
        {
          "output_type": "stream",
          "text": [
            "/usr/local/lib/python3.7/dist-packages/sklearn/linear_model/_logistic.py:940: ConvergenceWarning: lbfgs failed to converge (status=1):\n",
            "STOP: TOTAL NO. of ITERATIONS REACHED LIMIT.\n",
            "\n",
            "Increase the number of iterations (max_iter) or scale the data as shown in:\n",
            "    https://scikit-learn.org/stable/modules/preprocessing.html\n",
            "Please also refer to the documentation for alternative solver options:\n",
            "    https://scikit-learn.org/stable/modules/linear_model.html#logistic-regression\n",
            "  extra_warning_msg=_LOGISTIC_SOLVER_CONVERGENCE_MSG)\n",
            "/usr/local/lib/python3.7/dist-packages/sklearn/metrics/_classification.py:1272: UndefinedMetricWarning: Precision and F-score are ill-defined and being set to 0.0 in labels with no predicted samples. Use `zero_division` parameter to control this behavior.\n",
            "  _warn_prf(average, modifier, msg_start, len(result))\n",
            "/usr/local/lib/python3.7/dist-packages/sklearn/metrics/_classification.py:1272: UndefinedMetricWarning: Recall and F-score are ill-defined and being set to 0.0 in labels with no true samples. Use `zero_division` parameter to control this behavior.\n",
            "  _warn_prf(average, modifier, msg_start, len(result))\n"
          ],
          "name": "stderr"
        }
      ]
    },
    {
      "cell_type": "markdown",
      "metadata": {
        "id": "Dj8hnVXFWrqb"
      },
      "source": [
        "**checking Accuracy**\n",
        "* The Block below is used to calculate accuracy and to check underfitting\n",
        "* the Block below this block is used to check overfitting  by observing difference in model accuracies when prediction is done in test set and training set(if difference is high then there is overfitting and if diffrence is low there is no overfitting)."
      ]
    },
    {
      "cell_type": "code",
      "metadata": {
        "colab": {
          "base_uri": "https://localhost:8080/"
        },
        "id": "Vohpi8B6kR7T",
        "outputId": "2bf16d03-bd39-4c1b-8b52-05fb0711bee1"
      },
      "source": [
        "#Model gives accuracy of 96 percent which is better than  multinomail naive bayes\n",
        "#check overfitting for multinoial Logistic regression using diffrence in accuracy when model predicts on X_test and X_train\n",
        "print(\"accuracy on test set: \", accuracy_score(y_test,pre))\n",
        "print(\"accuracy on training set: \", accuracy_score(y_train,lr.predict(X_train)))\n",
        "#here difference in accuracy is very less hence model is NOT overfitting \n"
      ],
      "execution_count": 42,
      "outputs": [
        {
          "output_type": "stream",
          "text": [
            "accuracy on test set:  0.9144\n",
            "accuracy on training set:  0.9970662755034004\n"
          ],
          "name": "stdout"
        }
      ]
    },
    {
      "cell_type": "markdown",
      "metadata": {
        "id": "MPUxSW7wmbMb"
      },
      "source": [
        "## RandomForest algorithms"
      ]
    },
    {
      "cell_type": "code",
      "metadata": {
        "id": "lxQLFIaemapd"
      },
      "source": [
        "from sklearn.ensemble import RandomForestClassifier"
      ],
      "execution_count": 43,
      "outputs": []
    },
    {
      "cell_type": "code",
      "metadata": {
        "colab": {
          "base_uri": "https://localhost:8080/"
        },
        "id": "Y1znXDDUm_fo",
        "outputId": "5498a044-49e5-4ebd-fbc7-132a6454844c"
      },
      "source": [
        "rf = RandomForestClassifier(max_depth=2, random_state=0)\n",
        "rf.fit(X_train, y_train)"
      ],
      "execution_count": 44,
      "outputs": [
        {
          "output_type": "execute_result",
          "data": {
            "text/plain": [
              "RandomForestClassifier(bootstrap=True, ccp_alpha=0.0, class_weight=None,\n",
              "                       criterion='gini', max_depth=2, max_features='auto',\n",
              "                       max_leaf_nodes=None, max_samples=None,\n",
              "                       min_impurity_decrease=0.0, min_impurity_split=None,\n",
              "                       min_samples_leaf=1, min_samples_split=2,\n",
              "                       min_weight_fraction_leaf=0.0, n_estimators=100,\n",
              "                       n_jobs=None, oob_score=False, random_state=0, verbose=0,\n",
              "                       warm_start=False)"
            ]
          },
          "metadata": {
            "tags": []
          },
          "execution_count": 44
        }
      ]
    },
    {
      "cell_type": "code",
      "metadata": {
        "colab": {
          "base_uri": "https://localhost:8080/"
        },
        "id": "WTyKjR1mnSpf",
        "outputId": "b4528205-ba22-40f6-a6c2-19dd0383473c"
      },
      "source": [
        "#model prediction\n",
        "pred_y=rf.predict(X_test)\n",
        "#Model performance calcutation and check whether underfitting is there or not.\n",
        "r=accuracy_score(y_test,pred_y)\n",
        "cm=confusion_matrix(y_test,pred_y)\n",
        "print(r)\n",
        "\n",
        "print(classification_report(y_test,pred_y))"
      ],
      "execution_count": 45,
      "outputs": [
        {
          "output_type": "stream",
          "text": [
            "0.341\n",
            "              precision    recall  f1-score   support\n",
            "\n",
            "           3       0.00      0.00      0.00         1\n",
            "           4       0.00      0.00      0.00         1\n",
            "           5       0.00      0.00      0.00         2\n",
            "           9       0.00      0.00      0.00         1\n",
            "          12       0.00      0.00      0.00         1\n",
            "          14       0.00      0.00      0.00         1\n",
            "          16       0.00      0.00      0.00       239\n",
            "          18       0.00      0.00      0.00       116\n",
            "          19       0.00      0.00      0.00        87\n",
            "          20       0.00      0.00      0.00         1\n",
            "          21       0.00      0.00      0.00         1\n",
            "          22       0.00      0.00      0.00       184\n",
            "          26       0.00      0.00      0.00         1\n",
            "          29       0.00      0.00      0.00         1\n",
            "          30       0.00      0.00      0.00        22\n",
            "          35       0.00      0.00      0.00         1\n",
            "          37       0.32      1.00      0.48      1538\n",
            "          38       0.00      0.00      0.00         6\n",
            "          40       0.00      0.00      0.00       146\n",
            "          41       0.00      0.00      0.00         1\n",
            "          44       0.00      0.00      0.00         2\n",
            "          47       0.00      0.00      0.00         1\n",
            "          48       0.00      0.00      0.00         1\n",
            "          49       0.00      0.00      0.00         3\n",
            "          50       0.00      0.00      0.00         1\n",
            "          51       0.00      0.00      0.00         2\n",
            "          52       0.00      0.00      0.00         2\n",
            "          55       0.00      0.00      0.00         3\n",
            "          56       0.00      0.00      0.00         1\n",
            "          58       0.00      0.00      0.00         2\n",
            "          60       0.00      0.00      0.00         1\n",
            "          64       0.00      0.00      0.00       279\n",
            "          65       0.00      0.00      0.00         2\n",
            "          67       0.00      0.00      0.00        52\n",
            "          69       0.00      0.00      0.00         8\n",
            "          72       0.00      0.00      0.00         1\n",
            "          74       0.00      0.00      0.00         6\n",
            "          76       0.00      0.00      0.00       444\n",
            "          77       0.00      0.00      0.00         1\n",
            "          78       0.00      0.00      0.00         1\n",
            "          80       0.00      0.00      0.00         1\n",
            "          81       0.00      0.00      0.00         1\n",
            "          84       1.00      0.19      0.32       872\n",
            "          93       0.00      0.00      0.00       161\n",
            "          94       0.00      0.00      0.00         1\n",
            "          99       0.00      0.00      0.00         1\n",
            "         101       0.00      0.00      0.00         1\n",
            "         102       0.00      0.00      0.00         1\n",
            "         103       0.00      0.00      0.00         1\n",
            "         104       0.00      0.00      0.00         1\n",
            "         105       0.00      0.00      0.00         1\n",
            "         108       0.00      0.00      0.00         1\n",
            "         110       0.00      0.00      0.00         2\n",
            "         112       0.00      0.00      0.00         1\n",
            "         113       0.00      0.00      0.00       280\n",
            "         114       0.00      0.00      0.00         2\n",
            "         118       0.00      0.00      0.00         1\n",
            "         123       0.00      0.00      0.00         4\n",
            "         126       0.00      0.00      0.00        72\n",
            "         127       0.00      0.00      0.00         8\n",
            "         128       0.00      0.00      0.00         1\n",
            "         142       0.00      0.00      0.00         1\n",
            "         143       0.00      0.00      0.00         1\n",
            "         145       0.00      0.00      0.00         1\n",
            "         147       0.00      0.00      0.00         1\n",
            "         151       0.00      0.00      0.00         1\n",
            "         152       0.00      0.00      0.00         1\n",
            "         153       0.00      0.00      0.00         1\n",
            "         154       0.00      0.00      0.00         1\n",
            "         156       0.00      0.00      0.00         2\n",
            "         160       0.00      0.00      0.00         1\n",
            "         161       0.00      0.00      0.00        40\n",
            "         166       0.00      0.00      0.00         1\n",
            "         168       0.00      0.00      0.00        14\n",
            "         170       0.00      0.00      0.00         1\n",
            "         172       0.00      0.00      0.00         1\n",
            "         173       0.00      0.00      0.00         1\n",
            "         175       0.00      0.00      0.00         1\n",
            "         176       0.00      0.00      0.00         1\n",
            "         177       0.00      0.00      0.00       119\n",
            "         178       0.00      0.00      0.00        89\n",
            "         179       0.00      0.00      0.00         1\n",
            "         181       0.00      0.00      0.00         1\n",
            "         183       0.00      0.00      0.00         1\n",
            "         185       0.00      0.00      0.00         1\n",
            "         187       0.00      0.00      0.00         3\n",
            "         188       0.00      0.00      0.00         1\n",
            "         189       0.00      0.00      0.00         1\n",
            "         190       0.00      0.00      0.00       127\n",
            "         191       0.00      0.00      0.00         1\n",
            "         192       0.00      0.00      0.00         1\n",
            "         193       0.00      0.00      0.00         1\n",
            "         194       0.00      0.00      0.00         1\n",
            "         195       0.00      0.00      0.00         1\n",
            "         197       0.00      0.00      0.00         1\n",
            "         198       0.00      0.00      0.00         1\n",
            "\n",
            "    accuracy                           0.34      5000\n",
            "   macro avg       0.01      0.01      0.01      5000\n",
            "weighted avg       0.27      0.34      0.20      5000\n",
            "\n"
          ],
          "name": "stdout"
        },
        {
          "output_type": "stream",
          "text": [
            "/usr/local/lib/python3.7/dist-packages/sklearn/metrics/_classification.py:1272: UndefinedMetricWarning: Precision and F-score are ill-defined and being set to 0.0 in labels with no predicted samples. Use `zero_division` parameter to control this behavior.\n",
            "  _warn_prf(average, modifier, msg_start, len(result))\n"
          ],
          "name": "stderr"
        }
      ]
    },
    {
      "cell_type": "markdown",
      "metadata": {
        "id": "zlkD_9nkns2_"
      },
      "source": [
        "it is giving very less accuracy so we should go with other model"
      ]
    }
  ]
}